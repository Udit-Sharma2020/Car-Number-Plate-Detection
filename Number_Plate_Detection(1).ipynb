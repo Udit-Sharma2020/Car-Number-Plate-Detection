{
 "cells": [
  {
   "cell_type": "code",
   "execution_count": 1,
   "metadata": {
    "id": "zWC12_MdrqUh"
   },
   "outputs": [
    {
     "ename": "ModuleNotFoundError",
     "evalue": "No module named 'cnn'",
     "output_type": "error",
     "traceback": [
      "\u001b[1;31m---------------------------------------------------------------------------\u001b[0m",
      "\u001b[1;31mModuleNotFoundError\u001b[0m                       Traceback (most recent call last)",
      "\u001b[1;32m<ipython-input-1-c3797d0f333c>\u001b[0m in \u001b[0;36m<module>\u001b[1;34m\u001b[0m\n\u001b[0;32m      3\u001b[0m \u001b[1;32mimport\u001b[0m \u001b[0mnumpy\u001b[0m \u001b[1;32mas\u001b[0m \u001b[0mnp\u001b[0m\u001b[1;33m\u001b[0m\u001b[1;33m\u001b[0m\u001b[0m\n\u001b[0;32m      4\u001b[0m \u001b[1;32mimport\u001b[0m \u001b[0mpandas\u001b[0m \u001b[1;32mas\u001b[0m \u001b[0mpd\u001b[0m\u001b[1;33m\u001b[0m\u001b[1;33m\u001b[0m\u001b[0m\n\u001b[1;32m----> 5\u001b[1;33m \u001b[1;32mfrom\u001b[0m \u001b[0mcnn\u001b[0m \u001b[1;32mimport\u001b[0m \u001b[0mNet\u001b[0m\u001b[1;33m\u001b[0m\u001b[1;33m\u001b[0m\u001b[0m\n\u001b[0m\u001b[0;32m      6\u001b[0m \u001b[1;32mimport\u001b[0m \u001b[0mcv2\u001b[0m\u001b[1;33m\u001b[0m\u001b[1;33m\u001b[0m\u001b[0m\n\u001b[0;32m      7\u001b[0m \u001b[1;32mimport\u001b[0m \u001b[0mpytesseract\u001b[0m\u001b[1;33m\u001b[0m\u001b[1;33m\u001b[0m\u001b[0m\n",
      "\u001b[1;31mModuleNotFoundError\u001b[0m: No module named 'cnn'"
     ]
    }
   ],
   "source": [
    "#For Converting and Display \n",
    "import codecs\n",
    "import numpy as np\n",
    "import pandas as pd\n",
    "from cnn import Net\n",
    "import cv2\n",
    "import pytesseract\n",
    "from matplotlib import pyplot as plt"
   ]
  },
  {
   "cell_type": "code",
   "execution_count": 100,
   "metadata": {
    "id": "jBRKlfFaIPYp"
   },
   "outputs": [],
   "source": [
    "#To fetch Details of Owner of Car\n",
    "import requests\n",
    "import xmltodict\n",
    "import json"
   ]
  },
  {
   "cell_type": "code",
   "execution_count": 3,
   "metadata": {
    "colab": {
     "base_uri": "https://localhost:8080/"
    },
    "id": "1A5Lpq6OrstW",
    "outputId": "373fec9a-e6f4-4ddf-8296-238c35e23e2d"
   },
   "outputs": [
    {
     "data": {
      "text/plain": [
       "False"
      ]
     },
     "execution_count": 3,
     "metadata": {
      "tags": []
     },
     "output_type": "execute_result"
    }
   ],
   "source": [
    "#For Loading our Empty CNN Model and Train it\n",
    "import torch\n",
    "import torch.nn as nn\n",
    "import torchvision.transforms as transforms\n",
    "import torchvision.datasets as datasets\n",
    "from torch.autograd import Variable\n",
    "torch.cuda.is_available()"
   ]
  },
  {
   "cell_type": "code",
   "execution_count": 41,
   "metadata": {
    "id": "b5-aenRCrv4Y"
   },
   "outputs": [],
   "source": [
    "#Read Files Path and Resizing Them\n",
    "a = []\n",
    "for i in range(1, 13):\n",
    "  image = cv2.imread('/content/drive/MyDrive/cars_dataset/' + str(i) + '.png')\n",
    "  filename = cv2.imread('/content/drive/MyDrive/cars_without_number_plate/' + str(i) + '.jpg')\n",
    "  image.resize(3, 512, 512)\n",
    "  filename.resize(3, 512, 512)\n",
    "  a.append(image)\n",
    "  a.append(filename)"
   ]
  },
  {
   "cell_type": "code",
   "execution_count": 42,
   "metadata": {
    "colab": {
     "base_uri": "https://localhost:8080/"
    },
    "id": "FeJVY2tavpZC",
    "outputId": "a97baa25-fdbe-4d24-87e6-71f66ac9d097"
   },
   "outputs": [
    {
     "name": "stdout",
     "output_type": "stream",
     "text": [
      "Net(\n",
      "  (conv1): Conv2d(3, 32, kernel_size=(5, 5), stride=(1, 1))\n",
      "  (conv2): Conv2d(32, 64, kernel_size=(3, 3), stride=(1, 1))\n",
      "  (conv3): Conv2d(64, 128, kernel_size=(3, 3), stride=(1, 1))\n",
      "  (conv4): Conv2d(128, 256, kernel_size=(2, 2), stride=(1, 1))\n",
      "  (pool): MaxPool2d(kernel_size=2, stride=2, padding=0, dilation=1, ceil_mode=False)\n",
      "  (fc1): Linear(in_features=230400, out_features=1000, bias=True)\n",
      "  (fc2): Linear(in_features=1000, out_features=1000, bias=True)\n",
      "  (fc3): Linear(in_features=1000, out_features=1, bias=True)\n",
      "  (drop1): Dropout(p=0.1, inplace=False)\n",
      "  (drop2): Dropout(p=0.2, inplace=False)\n",
      "  (drop3): Dropout(p=0.3, inplace=False)\n",
      "  (drop4): Dropout(p=0.4, inplace=False)\n",
      "  (drop5): Dropout(p=0.5, inplace=False)\n",
      "  (drop6): Dropout(p=0.6, inplace=False)\n",
      ")\n"
     ]
    }
   ],
   "source": [
    "#Our CNN Model\n",
    "net = Net()\n",
    "print(net)"
   ]
  },
  {
   "cell_type": "code",
   "execution_count": 43,
   "metadata": {
    "id": "4Z9OGCkBvvbr"
   },
   "outputs": [],
   "source": [
    "a = np.array(a)\n",
    "a = torch.from_numpy(a)\n",
    "a = a.type(torch.FloatTensor)"
   ]
  },
  {
   "cell_type": "code",
   "execution_count": 44,
   "metadata": {
    "id": "9cpWKHgexDxL"
   },
   "outputs": [],
   "source": [
    "#Read a Label File For Training Purposes \n",
    "import pandas as pd\n",
    "import numpy as np\n",
    "from google.colab import files\n",
    "\n",
    "df=pd.read_csv('label.csv')\n",
    "\n",
    "key_pts = df.iloc[0:25, 0:1].values"
   ]
  },
  {
   "cell_type": "code",
   "execution_count": 45,
   "metadata": {
    "id": "H5j-ABLJxTIu"
   },
   "outputs": [],
   "source": [
    "key_pts = torch.from_numpy(key_pts)\n",
    "key_pts = key_pts.type(torch.FloatTensor)"
   ]
  },
  {
   "cell_type": "code",
   "execution_count": 46,
   "metadata": {
    "id": "Q14pb7ZcxZTk"
   },
   "outputs": [],
   "source": [
    "import torch.optim as optim\n",
    "criterion = nn.MSELoss()\n",
    "optimizer = optim.Adam(params = net.parameters(), lr = 0.001)"
   ]
  },
  {
   "cell_type": "code",
   "execution_count": 51,
   "metadata": {
    "id": "4ZV3wHD-xfQl"
   },
   "outputs": [],
   "source": [
    "#Function To Train Our Model \n",
    "def train_net(n_epochs, a, key_pts):\n",
    "    net.train()\n",
    "    for epoch in range(n_epochs):\n",
    "        running_loss = 0.0\n",
    "        for i in range(1):\n",
    "          output_pts = net(a[i].reshape(1, 3, 512, 512))\n",
    "          loss = criterion(output_pts, key_pts[i])\n",
    "          optimizer.zero_grad()\n",
    "          loss.backward()\n",
    "          optimizer.step()\n",
    "          running_loss += loss.item()\n",
    "          print('Epoch: {}, Batch: {}, Avg. Loss: {}'.format(epoch + 1, i+1, running_loss/10))\n",
    "          running_loss = 0.0\n",
    "    print('Finished Training')"
   ]
  },
  {
   "cell_type": "code",
   "execution_count": 52,
   "metadata": {
    "colab": {
     "base_uri": "https://localhost:8080/"
    },
    "id": "Mwik6mgOxjNS",
    "outputId": "e94810d7-13f1-4ea3-d056-f8e9f414c2df"
   },
   "outputs": [
    {
     "name": "stdout",
     "output_type": "stream",
     "text": [
      "Epoch: 1, Batch: 1, Avg. Loss: 0.10308351516723632\n",
      "Finished Training\n"
     ]
    }
   ],
   "source": [
    "train_net(1, a, key_pts)"
   ]
  },
  {
   "cell_type": "code",
   "execution_count": 53,
   "metadata": {
    "id": "ZvYjFGAQ02JU"
   },
   "outputs": [],
   "source": [
    "ab = cv2.imread('/content/drive/MyDrive/cars_dataset/1.png')\n",
    "ab.resize(3, 512, 512)\n",
    "ab = torch.from_numpy(ab)\n",
    "ab = ab.type(torch.FloatTensor)"
   ]
  },
  {
   "cell_type": "code",
   "execution_count": 55,
   "metadata": {
    "id": "S9B5gt2K08ST"
   },
   "outputs": [],
   "source": [
    "ab1=net(ab.reshape(1, 3, 512, 512))"
   ]
  },
  {
   "cell_type": "code",
   "execution_count": 63,
   "metadata": {
    "id": "AS870HsO68o7"
   },
   "outputs": [],
   "source": [
    "##Detect Number Plate Fucntion \n",
    "def carplate_detect(image):\n",
    "    carplate_overlay = image.copy() \n",
    "    carplate_rects = carplate_haar_cascade.detectMultiScale(carplate_overlay,scaleFactor=1.1, minNeighbors=3)\n",
    "    for x,y,w,h in carplate_rects: \n",
    "        cv2.rectangle(carplate_overlay, (x,y), (x+w,y+h), (255,0,0), 5) \n",
    "\n",
    "    return carplate_overlay"
   ]
  },
  {
   "cell_type": "code",
   "execution_count": 62,
   "metadata": {
    "id": "3XTj5f5x69ZZ"
   },
   "outputs": [],
   "source": [
    "# Function Adjusted to extract specific region of interest i.e. car license plate\n",
    "def carplate_extract(image):\n",
    "\n",
    "    carplate_rects = carplate_haar_cascade.detectMultiScale(image,scaleFactor=1.1, minNeighbors=5)\n",
    "    for x,y,w,h in carplate_rects: \n",
    "        carplate_img = image[y+15:y+h-10 ,x+15:x+w-20] \n",
    "\n",
    "    return carplate_img"
   ]
  },
  {
   "cell_type": "code",
   "execution_count": 64,
   "metadata": {
    "id": "4Po4TZTk7IFi"
   },
   "outputs": [],
   "source": [
    "# Fucntion To Enlarge Image\n",
    "def enlarge_img(image, scale_percent):\n",
    "    width = int(image.shape[1] * scale_percent / 100)\n",
    "    height = int(image.shape[0] * scale_percent / 100)\n",
    "    dim = (width, height)\n",
    "    resized_image = cv2.resize(image, dim, interpolation = cv2.INTER_AREA)\n",
    "    return resized_image"
   ]
  },
  {
   "cell_type": "code",
   "execution_count": 3,
   "metadata": {
    "id": "sKM5hsEPBRDd"
   },
   "outputs": [],
   "source": [
    "# API function to fetch Details \n",
    "def get_vehicle_info(plate_number):\n",
    "    r = requests.get(\"http://www.regcheck.org.uk/api/reg.asmx/CheckIndia?RegistrationNumber={0}&username=ElSid1\".format(str(plate_number)))\n",
    "    data = xmltodict.parse(r.content)\n",
    "    jdata = json.dumps(data)\n",
    "    df = json.loads(jdata)\n",
    "    df1 = json.loads(df['Vehicle']['vehicleJson'])\n",
    "    return df1"
   ]
  },
  {
   "cell_type": "code",
   "execution_count": 76,
   "metadata": {
    "id": "eqiSOJpX832N"
   },
   "outputs": [],
   "source": [
    "pytesseract.pytesseract.tesseract_cmd = (\n",
    "    r'/usr/bin/tesseract'\n",
    ")"
   ]
  },
  {
   "cell_type": "code",
   "execution_count": 116,
   "metadata": {
    "colab": {
     "base_uri": "https://localhost:8080/",
     "height": 186
    },
    "id": "09dLk6m-1AjV",
    "outputId": "3d369914-925c-485a-d6f5-eeb839181e2d"
   },
   "outputs": [
    {
     "name": "stdout",
     "output_type": "stream",
     "text": [
      "{'Description': 'HYUNDAI MOTOR INDIA LTD / CRETA 1.6 VTVT E', 'RegistrationYear': '2018', 'CarMake': {'CurrentTextValue': 'HYUNDAI MOTOR INDIA LTD'}, 'CarModel': {'CurrentTextValue': 'CRETA 1.6 VTVT E'}, 'MakeDescription': {'CurrentTextValue': 'HYUNDAI MOTOR INDIA LTD'}, 'ModelDescription': {'CurrentTextValue': 'CRETA 1.6 VTVT E'}, 'VechileIdentificationNumber': 'MALC181CLJM30000', 'EngineNumber': 'G4FGHW6XXXXX', 'FuelType': {'CurrentTextValue': 'PETROL'}, 'RegistrationDate': '28/01/2018', 'Owner': 'HANNAH ISAAC', 'Fitness': '27-Jan-2033', 'Insurance': '27-Jan-2019', 'Location': 'DY.DIR.ZONAL OFFICE,EAST DELHI,MAYUR VIHAR', 'ImageUrl': 'http://in.carregistrationapi.com/image.aspx/@SFlVTkRBSSBNT1RPUiBJTkRJQSBMVEQgLyBDUkVUQSAxLjYgVlRWVCBF'}\n"
     ]
    },
    {
     "data": {
      "image/png": "[encoded data removed]",
      "text/plain": [
       "<Figure size 432x288 with 1 Axes>"
      ]
     },
     "metadata": {
      "needs_background": "light",
      "tags": []
     },
     "output_type": "display_data"
    }
   ],
   "source": [
    "#Test Image\n",
    "ab = cv2.imread('/content/Car1.png')\n",
    "flag = False\n",
    "for i in range(0:1):\n",
    "  ab = cv2.imread('/content/drive/MyDrive/cars_dataset/1.png')\n",
    "  ab.resize(3, 512, 512)\n",
    "  ab = torch.from_numpy(ab)\n",
    "  ab = ab.type(torch.FloatTensor)\n",
    "  if ab1[0]>0.8:\n",
    "    flag==True\n",
    "    break;\n",
    "    \n",
    "if flag==False:\n",
    "  print('Number Plate not found')\n",
    "else:\n",
    "  carplate_img_rgb = cv2.cvtColor(ab, cv2.COLOR_BGR2RGB)\n",
    "  carplate_haar_cascade = cv2.CascadeClassifier('./haarcascade_russian_plate_number.xml')\n",
    "  detected_carplate_img = carplate_detect(carplate_img_rgb)\n",
    "  carplate_extract_img = carplate_extract(carplate_img_rgb)\n",
    "  carplate_extract_img = enlarge_img(carplate_extract_img, 150)\n",
    "  text = pytesseract.image_to_string(carplate_extract_img, lang=\"eng\")\n",
    "  plt.imshow(carplate_extract_img)\n",
    "  text=text.replace(\" \", \"\")\n",
    "  text1=text[0:len(text)-3]\n",
    "  text2=get_vehicle_info(text1)\n",
    "  print(text2)"
   ]
  },
  {
   "cell_type": "code",
   "execution_count": 13,
   "metadata": {
    "id": "DW3eeiS8IaB4"
   },
   "outputs": [],
   "source": [
    "#HTML PAGE to Display Car Owner Information\n",
    "\n",
    "contents = '''<!DOCTYPE html PUBLIC \"-//W3C//DTD HTML 4.01 Transitional//EN\">\n",
    "<html>\n",
    "<head>\n",
    "  <meta content=\"text/html; charset=ISO-8859-1\"\n",
    " http-equiv=\"content-type\">\n",
    " <link rel='stylesheet' type='text/css' media='screen' href='style.css'>\n",
    "  <title>Car Info</title>\n",
    "</head>\n",
    "<body>\n",
    "    <div class=\"header\">\n",
    "        <h1>WEB PORTAL FOR CAR INFO</h1> \n",
    "        <h3>SUBMIT VIDEO OF CAR BELOW</h3>\n",
    "    </div>\n",
    "    \n",
    "    <p id =\"para\">'''\n",
    "content2='''</p>\n",
    "    <div class=\"pos\">\n",
    "        <button id=\"btn\">Close Tab</button>\n",
    "    </div>\n",
    "\n",
    "</body>\n",
    "<script>\n",
    "    var btn1 = document.getElementById(\"btn\");\n",
    "    btn1.onclick = function () {\n",
    "        var conf = confirm(\"Are you sure, you want to close this tab?\");\n",
    "\t\tif(conf == true){\n",
    "\t\t\tclose();\n",
    "\n",
    "\t\t}\n",
    "    }\n",
    "\n",
    "</script>\n",
    "</html>\n",
    "'''\n",
    "\n",
    "def main():\n",
    "    browseLocal(contents+text2+content2)\n",
    "\n",
    "def strToFile(text, filename):\n",
    "    \"\"\"Write a file with the given name and the given text.\"\"\"\n",
    "    output = open(filename,\"w\")\n",
    "    output.write(text)\n",
    "    output.close()\n",
    "\n",
    "def browseLocal(webpageText, filename='tempBrowseLocal.html'):\n",
    "    '''Start your webbrowser on a local file containing the text\n",
    "    with given filename.'''\n",
    "    import webbrowser, os.path\n",
    "    strToFile(webpageText, filename)\n",
    "    webbrowser.open(\"file:///\" + os.path.abspath(filename)) \n",
    "\n",
    "main()"
   ]
  },
  {
   "cell_type": "code",
   "execution_count": null,
   "metadata": {},
   "outputs": [],
   "source": []
  }
 ],
 "metadata": {
  "colab": {
   "name": "Number Plate Detection",
   "provenance": []
  },
  "kernelspec": {
   "display_name": "Python 3",
   "language": "python",
   "name": "python3"
  },
  "language_info": {
   "codemirror_mode": {
    "name": "ipython",
    "version": 3
   },
   "file_extension": ".py",
   "mimetype": "text/x-python",
   "name": "python",
   "nbconvert_exporter": "python",
   "pygments_lexer": "ipython3",
   "version": "3.7.9"
  }
 },
 "nbformat": 4,
 "nbformat_minor": 1
}
